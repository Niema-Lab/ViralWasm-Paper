{
 "cells": [
  {
   "cell_type": "markdown",
   "metadata": {},
   "source": [
    "# Imports and Definitions"
   ]
  },
  {
   "cell_type": "code",
   "execution_count": 3,
   "metadata": {},
   "outputs": [],
   "source": [
    "from matplotlib import rcParams\n",
    "from os import makedirs\n",
    "from seaborn import pointplot, set_context, set_style, violinplot\n",
    "from zipfile import ZipFile\n",
    "import matplotlib.pyplot as plt\n",
    "BENCHMARK_CONSENSUS_ZIP = 'data/benchmarks-consensus.zip'\n",
    "BENCHMARK_EPI_ZIP = 'data/benchmarks-epi.zip'\n",
    "FIGDIR = 'figs'; makedirs(FIGDIR, exist_ok=True)\n",
    "RC = {\"font.size\":12,\"axes.titlesize\":16,\"axes.labelsize\":14,\"legend.fontsize\":10,\"xtick.labelsize\":10,\"ytick.labelsize\":10}\n",
    "set_context(\"paper\", rc=RC); set_style(\"ticks\"); rcParams['font.family'] = 'serif'\n",
    "rcParams['patch.edgecolor'] = '4C4C4C' # set boxenplot outlines same as violinplot\n",
    "META = {\n",
    "    'color': {\n",
    "        'chromium': 'blue',\n",
    "        'cli': 'green',\n",
    "    }\n",
    "}"
   ]
  },
  {
   "cell_type": "markdown",
   "metadata": {},
   "source": [
    "# Analysis"
   ]
  },
  {
   "cell_type": "markdown",
   "metadata": {},
   "source": [
    "## Load data from zips"
   ]
  },
  {
   "cell_type": "code",
   "execution_count": 19,
   "metadata": {},
   "outputs": [],
   "source": [
    "data = dict() # data['consensus'/'epi']['time'/'memory']['chromium'/'cli'][n] = list of measurements\n",
    "for k, zip_fn in [('consensus', BENCHMARK_CONSENSUS_ZIP), ('epi', BENCHMARK_EPI_ZIP)]:\n",
    "    data[k] = dict(); z = ZipFile(zip_fn)\n",
    "    for m, m_suf in [('time', '/time.log'), ('memory', '/memory.log')]:\n",
    "        data[k][m] = dict()\n",
    "        for curr_fn in [fn for fn in z.namelist() if fn.endswith(m_suf)]:\n",
    "            folder, tool = curr_fn.split('/')[:-1]\n",
    "            if tool not in data[k][m]:\n",
    "                data[k][m][tool] = dict()\n",
    "            n, r = [int(v) for v in folder.rstrip('/').strip().split('.')]\n",
    "            if n not in data[k][m][tool]:\n",
    "                data[k][m][tool][n] = list()\n",
    "            data[k][m][tool][n].append(float(z.read(curr_fn).decode()))"
   ]
  },
  {
   "cell_type": "markdown",
   "metadata": {},
   "source": [
    "## Plot runtime and peak memory vs. *n*"
   ]
  },
  {
   "cell_type": "code",
   "execution_count": 21,
   "metadata": {},
   "outputs": [],
   "source": [
    "pass # TODO"
   ]
  }
 ],
 "metadata": {
  "kernelspec": {
   "display_name": "Python 3",
   "language": "python",
   "name": "python3"
  },
  "language_info": {
   "codemirror_mode": {
    "name": "ipython",
    "version": 3
   },
   "file_extension": ".py",
   "mimetype": "text/x-python",
   "name": "python",
   "nbconvert_exporter": "python",
   "pygments_lexer": "ipython3",
   "version": "3.10.8"
  }
 },
 "nbformat": 4,
 "nbformat_minor": 2
}
